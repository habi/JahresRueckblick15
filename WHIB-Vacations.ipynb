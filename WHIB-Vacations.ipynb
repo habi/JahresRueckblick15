{
 "cells": [
  {
   "cell_type": "markdown",
   "metadata": {},
   "source": [
    "Sometimes we want to plot the [WHIB](http://www.bleatinc.com/) data for a small time-frame, for example to add to a photo-book of vacations."
   ]
  },
  {
   "cell_type": "code",
   "execution_count": null,
   "metadata": {},
   "outputs": [],
   "source": [
    "import glob\n",
    "import pandas\n",
    "import matplotlib.pyplot as plt\n",
    "import mplleaflet"
   ]
  },
  {
   "cell_type": "code",
   "execution_count": null,
   "metadata": {},
   "outputs": [],
   "source": [
    "plt.rcParams['figure.figsize'] = (16, 9)  # Size up figures a bit"
   ]
  },
  {
   "cell_type": "code",
   "execution_count": null,
   "metadata": {},
   "outputs": [],
   "source": [
    "# Read in locations from newest CSV-file in the current directory\n",
    "locations = pandas.read_csv(sorted(glob.glob('journey*.csv'))[-1])"
   ]
  },
  {
   "cell_type": "code",
   "execution_count": null,
   "metadata": {},
   "outputs": [],
   "source": [
    "locations.head()"
   ]
  },
  {
   "cell_type": "code",
   "execution_count": null,
   "metadata": {},
   "outputs": [],
   "source": [
    "locations.tail()"
   ]
  },
  {
   "cell_type": "code",
   "execution_count": null,
   "metadata": {},
   "outputs": [],
   "source": [
    "# Modify the dataframe\n",
    "locations.drop(['Crumb'], axis=1, inplace=True)\n",
    "locations.rename(columns={'LocalDate': 'Date'}, inplace=True)\n",
    "locations.rename(columns={'LocalTime': 'Time'}, inplace=True)\n",
    "locations.rename(columns={'Altitude (in metres)': 'Altitude'}, inplace=True)\n",
    "locations.rename(columns={'Accuracy (in metres)': 'Accuray'}, inplace=True)"
   ]
  },
  {
   "cell_type": "code",
   "execution_count": null,
   "metadata": {},
   "outputs": [],
   "source": [
    "# Make us a proper date column, based on https://stackoverflow.com/a/26763793\n",
    "locations['Date'] = pandas.to_datetime(locations['Date'], format='%d.%m.%y')"
   ]
  },
  {
   "cell_type": "code",
   "execution_count": null,
   "metadata": {},
   "outputs": [],
   "source": [
    "# https://sergilehkyi.com/tips-on-working-with-datetime-index-in-pandas/\n",
    "# Start of vacations\n",
    "locations.drop(locations[locations.Date < '2023-07-22'].index, inplace=True)\n",
    "# End of vacations\n",
    "locations.drop(locations[locations.Date > '2023-08-09'].index, inplace=True)"
   ]
  },
  {
   "cell_type": "code",
   "execution_count": null,
   "metadata": {},
   "outputs": [],
   "source": [
    "locations.head()"
   ]
  },
  {
   "cell_type": "code",
   "execution_count": null,
   "metadata": {},
   "outputs": [],
   "source": [
    "locations.tail()"
   ]
  },
  {
   "cell_type": "code",
   "execution_count": null,
   "metadata": {},
   "outputs": [],
   "source": [
    "tileprovider = 'Cartodb positron'"
   ]
  },
  {
   "cell_type": "code",
   "execution_count": null,
   "metadata": {},
   "outputs": [],
   "source": [
    "# `mplleaflet` needs to be patched, see https://github.com/jwass/mplleaflet/issues/80\n",
    "# The change is on line 241 of\n",
    "# /usr/local/Caskroom/miniconda/base/envs/jahresrueckblick/lib/python3.11/site-packages/mplleaflet/mplexporter/utils.py"
   ]
  },
  {
   "cell_type": "code",
   "execution_count": null,
   "metadata": {},
   "outputs": [],
   "source": [
    "plt.plot(locations.Longitude,\n",
    "         locations.Latitude,\n",
    "         color='black',\n",
    "         linewidth=5,\n",
    "         alpha=0.5)\n",
    "mplleaflet.display(tiles='osm')"
   ]
  },
  {
   "cell_type": "code",
   "execution_count": null,
   "metadata": {},
   "outputs": [],
   "source": [
    "plt.plot(locations.Longitude,\n",
    "         locations.Latitude,\n",
    "         color='black',\n",
    "         linewidth=5,\n",
    "         alpha=0.5)\n",
    "mplleaflet.save_html(tiles='osm', fileobj='ferien.html')"
   ]
  },
  {
   "cell_type": "code",
   "execution_count": null,
   "metadata": {},
   "outputs": [],
   "source": []
  },
  {
   "cell_type": "code",
   "execution_count": null,
   "metadata": {},
   "outputs": [],
   "source": []
  }
 ],
 "metadata": {
  "kernelspec": {
   "display_name": "Python 3 (ipykernel)",
   "language": "python",
   "name": "python3"
  },
  "language_info": {
   "codemirror_mode": {
    "name": "ipython",
    "version": 3
   },
   "file_extension": ".py",
   "mimetype": "text/x-python",
   "name": "python",
   "nbconvert_exporter": "python",
   "pygments_lexer": "ipython3",
   "version": "3.11.4"
  }
 },
 "nbformat": 4,
 "nbformat_minor": 4
}
